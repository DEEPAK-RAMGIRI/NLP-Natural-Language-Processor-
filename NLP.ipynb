{
  "nbformat": 4,
  "nbformat_minor": 0,
  "metadata": {
    "colab": {
      "provenance": [],
      "authorship_tag": "ABX9TyPyZXN8bf9Q9AOUwRCIYzpi",
      "include_colab_link": true
    },
    "kernelspec": {
      "name": "python3",
      "display_name": "Python 3"
    },
    "language_info": {
      "name": "python"
    }
  },
  "cells": [
    {
      "cell_type": "markdown",
      "metadata": {
        "id": "view-in-github",
        "colab_type": "text"
      },
      "source": [
        "<a href=\"https://colab.research.google.com/github/DEEPAK-RAMGIRI/NLP-Natural-Language-Processor-/blob/main/NLP.ipynb\" target=\"_parent\"><img src=\"https://colab.research.google.com/assets/colab-badge.svg\" alt=\"Open In Colab\"/></a>"
      ]
    },
    {
      "cell_type": "code",
      "source": [
        "import nltk\n",
        "from nltk import word_tokenize\n",
        "sent = \"India is a republic nation. We are proud Indians\"\n"
      ],
      "metadata": {
        "id": "B0iZmFj9o2g-"
      },
      "execution_count": 19,
      "outputs": []
    },
    {
      "cell_type": "code",
      "source": [
        "nltk.download('punkt_tab')"
      ],
      "metadata": {
        "colab": {
          "base_uri": "https://localhost:8080/"
        },
        "id": "8_btqaDFpNKf",
        "outputId": "f2f3ceab-852a-4032-fb5f-644a1c2b21ed"
      },
      "execution_count": 20,
      "outputs": [
        {
          "output_type": "stream",
          "name": "stderr",
          "text": [
            "[nltk_data] Downloading package punkt_tab to /root/nltk_data...\n",
            "[nltk_data]   Package punkt_tab is already up-to-date!\n"
          ]
        },
        {
          "output_type": "execute_result",
          "data": {
            "text/plain": [
              "True"
            ]
          },
          "metadata": {},
          "execution_count": 20
        }
      ]
    },
    {
      "cell_type": "code",
      "source": [
        "print(len(sent))   #Prints the number of characters\n",
        "print(sent[0:5])   #Prints 'India'\n",
        "print(sent[11:19]) #Prints 'republic'"
      ],
      "metadata": {
        "colab": {
          "base_uri": "https://localhost:8080/"
        },
        "id": "wHtBShnXo7lR",
        "outputId": "f2df3248-20b9-4312-c07b-7790f9fbc486"
      },
      "execution_count": 21,
      "outputs": [
        {
          "output_type": "stream",
          "name": "stdout",
          "text": [
            "48\n",
            "India\n",
            "republic\n"
          ]
        }
      ]
    },
    {
      "cell_type": "code",
      "source": [
        "print(nltk.word_tokenize(sent))\n",
        "#Prints list of words ['India', 'is', 'a', 'republic', 'nation', '.', 'We', 'are', 'proud', 'Indians']\n"
      ],
      "metadata": {
        "colab": {
          "base_uri": "https://localhost:8080/"
        },
        "id": "2Fdtsuhio9XY",
        "outputId": "54ac36e9-5fc8-483c-cc23-363a90905b1f"
      },
      "execution_count": 22,
      "outputs": [
        {
          "output_type": "stream",
          "name": "stdout",
          "text": [
            "['India', 'is', 'a', 'republic', 'nation', '.', 'We', 'are', 'proud', 'Indians']\n"
          ]
        }
      ]
    },
    {
      "cell_type": "code",
      "source": [
        "nltk.download('stopwords')"
      ],
      "metadata": {
        "colab": {
          "base_uri": "https://localhost:8080/"
        },
        "id": "ZdWKwuezpk0P",
        "outputId": "1229095a-e964-4c6e-f565-21364a5c4ab5"
      },
      "execution_count": 23,
      "outputs": [
        {
          "output_type": "stream",
          "name": "stderr",
          "text": [
            "[nltk_data] Downloading package stopwords to /root/nltk_data...\n",
            "[nltk_data]   Package stopwords is already up-to-date!\n"
          ]
        },
        {
          "output_type": "execute_result",
          "data": {
            "text/plain": [
              "True"
            ]
          },
          "metadata": {},
          "execution_count": 23
        }
      ]
    },
    {
      "cell_type": "code",
      "source": [
        "tokens = nltk.word_tokenize(sent)\n",
        "vocab = sorted(set(tokens))\n",
        "print(vocab) #Prints ['.', 'India', 'Indians', 'We', 'a', 'are', 'country', 'is', 'proud', 'republic']\n"
      ],
      "metadata": {
        "colab": {
          "base_uri": "https://localhost:8080/"
        },
        "id": "t-JVdUXFp9mV",
        "outputId": "fa614923-60af-48b4-c13c-5ac8cae08181"
      },
      "execution_count": 24,
      "outputs": [
        {
          "output_type": "stream",
          "name": "stdout",
          "text": [
            "['.', 'India', 'Indians', 'We', 'a', 'are', 'is', 'nation', 'proud', 'republic']\n"
          ]
        }
      ]
    },
    {
      "cell_type": "code",
      "execution_count": 28,
      "metadata": {
        "colab": {
          "base_uri": "https://localhost:8080/"
        },
        "id": "DRs7dro0oQO-",
        "outputId": "bfae3e0e-a00b-4d31-beda-6e702bafe8ca"
      },
      "outputs": [
        {
          "output_type": "stream",
          "name": "stdout",
          "text": [
            "['India', 'Indians', 'We', 'a', 'are', 'is', 'nation', 'proud', 'republic']\n"
          ]
        }
      ],
      "source": [
        "from string import punctuation\n",
        "vocab_no_punct=[]\n",
        "for i in vocab:\n",
        "    if i not in punctuation:\n",
        "          vocab_no_punct.append(i)\n",
        "print(vocab_no_punct) #Prints ['India', 'Indians', 'We', 'a', 'are', 'country', 'is', 'proud', 'republic']\n"
      ]
    },
    {
      "cell_type": "code",
      "source": [
        "from nltk.stem.snowball import SnowballStemmer\n",
        "stemObj = SnowballStemmer(\"english\")\n",
        "stemObj.stem(\"Studying\")#Prints 'studi'\n",
        "stemmed_vocab=[]\n",
        "stemObj = SnowballStemmer(\"english\")\n",
        "for i in vocab_no_punct:\n",
        "   stemmed_vocab.append(stemObj.stem(i))\n",
        "print(stemmed_vocab) #Prints ['india', 'indian', 'we', 'a', 'are', 'countri', 'is', 'proud', 'republ']\n"
      ],
      "metadata": {
        "colab": {
          "base_uri": "https://localhost:8080/"
        },
        "id": "IITW3QOHqL1D",
        "outputId": "0074926c-e72b-49ea-dccd-ec7b4d34e95b"
      },
      "execution_count": 29,
      "outputs": [
        {
          "output_type": "stream",
          "name": "stdout",
          "text": [
            "['india', 'indian', 'we', 'a', 'are', 'is', 'nation', 'proud', 'republ']\n"
          ]
        }
      ]
    },
    {
      "cell_type": "code",
      "source": [
        "nltk.download(\"wordnet\")"
      ],
      "metadata": {
        "colab": {
          "base_uri": "https://localhost:8080/"
        },
        "id": "x-aAqw7Yqj1P",
        "outputId": "563b8b43-fb7f-4fd3-d94a-6dce09c20577"
      },
      "execution_count": 31,
      "outputs": [
        {
          "output_type": "stream",
          "name": "stderr",
          "text": [
            "[nltk_data] Downloading package wordnet to /root/nltk_data...\n"
          ]
        },
        {
          "output_type": "execute_result",
          "data": {
            "text/plain": [
              "True"
            ]
          },
          "metadata": {},
          "execution_count": 31
        }
      ]
    },
    {
      "cell_type": "code",
      "source": [
        "from nltk.stem.wordnet import WordNetLemmatizer\n",
        "lemmaObj = WordNetLemmatizer()\n",
        "lemmaObj.lemmatize(\"went\",pos='v')#Prints 'go'\n"
      ],
      "metadata": {
        "colab": {
          "base_uri": "https://localhost:8080/",
          "height": 36
        },
        "id": "pyx0T1tsqf5_",
        "outputId": "02a91673-f0ce-4af3-e5ac-9bdb5eb86c36"
      },
      "execution_count": 32,
      "outputs": [
        {
          "output_type": "execute_result",
          "data": {
            "text/plain": [
              "'go'"
            ],
            "application/vnd.google.colaboratory.intrinsic+json": {
              "type": "string"
            }
          },
          "metadata": {},
          "execution_count": 32
        }
      ]
    },
    {
      "cell_type": "code",
      "source": [
        "text=\"I saw John coming. He was with Mary. I talked to John and Mary. \\\n",
        "John said he met Mary on the way. John and Mary were going to school.\"\n",
        "print(nltk.FreqDist(nltk.word_tokenize(text)))\n",
        "#Prints FreqDist({'.': 5, 'Mary': 4, 'John': 4, 'I': 2, 'to': 2, 'and': 2, 'the': 1, 'was': 1, 'were': 1, 'school': 1, ...})\n",
        "nltk.FreqDist(text.split()).plot()\n"
      ],
      "metadata": {
        "colab": {
          "base_uri": "https://localhost:8080/",
          "height": 526
        },
        "id": "oFH2NueeseIG",
        "outputId": "6a595ffe-c4aa-4ade-d873-482714571622"
      },
      "execution_count": 33,
      "outputs": [
        {
          "output_type": "stream",
          "name": "stdout",
          "text": [
            "<FreqDist with 21 samples and 34 outcomes>\n"
          ]
        },
        {
          "output_type": "execute_result",
          "data": {
            "text/plain": [
              "<Axes: xlabel='Samples', ylabel='Counts'>"
            ]
          },
          "metadata": {},
          "execution_count": 33
        },
        {
          "output_type": "display_data",
          "data": {
            "text/plain": [
              "<Figure size 640x480 with 1 Axes>"
            ],
            "image/png": "[encoded data removed]"
          },
          "metadata": {}
        }
      ]
    },
    {
      "cell_type": "code",
      "source": [
        "nltk.download('brown')"
      ],
      "metadata": {
        "colab": {
          "base_uri": "https://localhost:8080/"
        },
        "id": "Zv-GmQIouMEB",
        "outputId": "f5d4040e-dc46-4693-acb8-25d9035fc479"
      },
      "execution_count": 36,
      "outputs": [
        {
          "output_type": "stream",
          "name": "stderr",
          "text": [
            "[nltk_data] Downloading package brown to /root/nltk_data...\n",
            "[nltk_data]   Unzipping corpora/brown.zip.\n"
          ]
        },
        {
          "output_type": "execute_result",
          "data": {
            "text/plain": [
              "True"
            ]
          },
          "metadata": {},
          "execution_count": 36
        }
      ]
    },
    {
      "cell_type": "code",
      "source": [
        "from nltk.corpus import brown\n",
        "cfd = nltk.ConditionalFreqDist((a, b)\n",
        "for a in brown.categories()\n",
        "for b in brown.words(categories=a))\n",
        "genres_list = ['romance','news','science_fiction', 'humor','religion','hobbies']\n",
        "modals_list = ['may','could', 'can', 'must', 'will', 'might']\n",
        "cfd.tabulate(conditions=genres_list, samples=modals_list)\n"
      ],
      "metadata": {
        "colab": {
          "base_uri": "https://localhost:8080/"
        },
        "id": "aA0uC4M_shji",
        "outputId": "2a957d28-8d8f-44dd-b6cd-a835184a2438"
      },
      "execution_count": 38,
      "outputs": [
        {
          "output_type": "stream",
          "name": "stdout",
          "text": [
            "                  may could   can  must  will might \n",
            "        romance    11   193    74    45    43    51 \n",
            "           news    66    86    93    50   389    38 \n",
            "science_fiction     4    49    16     8    16    12 \n",
            "          humor     8    30    16     9    13     8 \n",
            "       religion    78    59    82    54    71    12 \n",
            "        hobbies   131    58   268    83   264    22 \n"
          ]
        }
      ]
    },
    {
      "cell_type": "code",
      "source": [
        "from nltk import ngrams\n",
        "#use 2 for bigrams\n",
        "bigrams = ngrams(vocab_no_punct,2)\n",
        "print(list(bigrams))\n",
        "#Prints [('India', 'Indians'), ('Indians', 'We'), ('We', 'a'), ('a', 'are'), ('are', 'country'),\n",
        "        #  ('country', 'is'), ('is', 'proud'), ('proud', 'republic')]\n",
        "#use 3 for trigrams\n",
        "trigrams = ngrams(vocab_no_punct,3)\n",
        "print(list(trigrams))\n",
        "# [('India', 'Indians', 'We'), ('Indians', 'We', 'a'), ('We', 'a', 'are'), ('a', 'are', 'country'),\n",
        "# ('are', 'country', 'is'), ('country', 'is', 'proud'), ('is', 'proud', 'republic')]\n"
      ],
      "metadata": {
        "colab": {
          "base_uri": "https://localhost:8080/"
        },
        "id": "3aVAwGv0u5Hy",
        "outputId": "9b1b1b67-2bfd-4ffc-dbf2-9eb01213a912"
      },
      "execution_count": 40,
      "outputs": [
        {
          "output_type": "stream",
          "name": "stdout",
          "text": [
            "[('India', 'Indians'), ('Indians', 'We'), ('We', 'a'), ('a', 'are'), ('are', 'is'), ('is', 'nation'), ('nation', 'proud'), ('proud', 'republic')]\n",
            "[('India', 'Indians', 'We'), ('Indians', 'We', 'a'), ('We', 'a', 'are'), ('a', 'are', 'is'), ('are', 'is', 'nation'), ('is', 'nation', 'proud'), ('nation', 'proud', 'republic')]\n"
          ]
        }
      ]
    },
    {
      "cell_type": "code",
      "source": [
        "import nltk\n",
        "import string\n",
        "from nltk import word_tokenize\n",
        "from nltk import wordpunct_tokenize\n",
        "from nltk.corpus import stopwords\n",
        "from string import punctuation\n",
        "from nltk.stem.snowball import SnowballStemmer\n",
        "from nltk.stem.wordnet import WordNetLemmatizer\n",
        "from nltk import pos_tag\n",
        "#read the file\n",
        "#Note: use the correct path of the file depending on your environment\n",
        "files = \"In the bustling city of Orion, technology and tradition coexisted in harmony. People walked through neon-lit streets, chatting about the latest AI breakthroughs while sipping on their favorite herbal teas. In the heart of the city, an old bookstore stood untouched by time, its wooden shelves filled with forgotten stories. One evening, a young programmer named Alex stumbled upon an ancient manuscript, filled with cryptic symbols. Little did Alex know, this book held the key to an algorithm that could change the future of artificial intelligence forever.\"\n",
        "text = ''\n",
        "for i in files:\n",
        "  text += i\n",
        "print(text)\n"
      ],
      "metadata": {
        "colab": {
          "base_uri": "https://localhost:8080/"
        },
        "id": "9cvxUSV3vPld",
        "outputId": "df3e986d-d950-4257-a366-8b26974813aa"
      },
      "execution_count": 43,
      "outputs": [
        {
          "output_type": "stream",
          "name": "stdout",
          "text": [
            "In the bustling city of Orion, technology and tradition coexisted in harmony. People walked through neon-lit streets, chatting about the latest AI breakthroughs while sipping on their favorite herbal teas. In the heart of the city, an old bookstore stood untouched by time, its wooden shelves filled with forgotten stories. One evening, a young programmer named Alex stumbled upon an ancient manuscript, filled with cryptic symbols. Little did Alex know, this book held the key to an algorithm that could change the future of artificial intelligence forever.\n"
          ]
        }
      ]
    },
    {
      "cell_type": "code",
      "source": [
        "#remove trailing spaces\n",
        "trimmed_text = text.strip()\n",
        "print(trimmed_text)\n"
      ],
      "metadata": {
        "colab": {
          "base_uri": "https://localhost:8080/"
        },
        "id": "AmrOhka-v4NJ",
        "outputId": "867e0207-6d72-4548-845f-cc4623044dc5"
      },
      "execution_count": 44,
      "outputs": [
        {
          "output_type": "stream",
          "name": "stdout",
          "text": [
            "In the bustling city of Orion, technology and tradition coexisted in harmony. People walked through neon-lit streets, chatting about the latest AI breakthroughs while sipping on their favorite herbal teas. In the heart of the city, an old bookstore stood untouched by time, its wooden shelves filled with forgotten stories. One evening, a young programmer named Alex stumbled upon an ancient manuscript, filled with cryptic symbols. Little did Alex know, this book held the key to an algorithm that could change the future of artificial intelligence forever.\n"
          ]
        }
      ]
    },
    {
      "cell_type": "code",
      "source": [
        "converted_text = trimmed_text.lower()\n",
        "print(converted_text)\n"
      ],
      "metadata": {
        "colab": {
          "base_uri": "https://localhost:8080/"
        },
        "id": "a74byXLnv6I_",
        "outputId": "fc9813d8-0cd0-4350-cb0e-c4c2f459c4d8"
      },
      "execution_count": 46,
      "outputs": [
        {
          "output_type": "stream",
          "name": "stdout",
          "text": [
            "in the bustling city of orion, technology and tradition coexisted in harmony. people walked through neon-lit streets, chatting about the latest ai breakthroughs while sipping on their favorite herbal teas. in the heart of the city, an old bookstore stood untouched by time, its wooden shelves filled with forgotten stories. one evening, a young programmer named alex stumbled upon an ancient manuscript, filled with cryptic symbols. little did alex know, this book held the key to an algorithm that could change the future of artificial intelligence forever.\n"
          ]
        }
      ]
    },
    {
      "cell_type": "code",
      "source": [
        "#Tokenization using word tokenizer\n",
        "tokenized_list = word_tokenize(converted_text)\n",
        "print(tokenized_list)\n",
        "#Tokenization using word punct tokenizer\n",
        "punct_tokenized_list = wordpunct_tokenize(converted_text)\n",
        "print(punct_tokenized_list)\n",
        "#get vocabulary\n",
        "vocab_set = set(tokenized_list)\n",
        "print(vocab_set)\n"
      ],
      "metadata": {
        "colab": {
          "base_uri": "https://localhost:8080/"
        },
        "id": "DjTglYIDwCRx",
        "outputId": "03b84e1a-83bf-4631-9c88-39cede4b21a2"
      },
      "execution_count": 48,
      "outputs": [
        {
          "output_type": "stream",
          "name": "stdout",
          "text": [
            "['in', 'the', 'bustling', 'city', 'of', 'orion', ',', 'technology', 'and', 'tradition', 'coexisted', 'in', 'harmony', '.', 'people', 'walked', 'through', 'neon-lit', 'streets', ',', 'chatting', 'about', 'the', 'latest', 'ai', 'breakthroughs', 'while', 'sipping', 'on', 'their', 'favorite', 'herbal', 'teas', '.', 'in', 'the', 'heart', 'of', 'the', 'city', ',', 'an', 'old', 'bookstore', 'stood', 'untouched', 'by', 'time', ',', 'its', 'wooden', 'shelves', 'filled', 'with', 'forgotten', 'stories', '.', 'one', 'evening', ',', 'a', 'young', 'programmer', 'named', 'alex', 'stumbled', 'upon', 'an', 'ancient', 'manuscript', ',', 'filled', 'with', 'cryptic', 'symbols', '.', 'little', 'did', 'alex', 'know', ',', 'this', 'book', 'held', 'the', 'key', 'to', 'an', 'algorithm', 'that', 'could', 'change', 'the', 'future', 'of', 'artificial', 'intelligence', 'forever', '.']\n",
            "['in', 'the', 'bustling', 'city', 'of', 'orion', ',', 'technology', 'and', 'tradition', 'coexisted', 'in', 'harmony', '.', 'people', 'walked', 'through', 'neon', '-', 'lit', 'streets', ',', 'chatting', 'about', 'the', 'latest', 'ai', 'breakthroughs', 'while', 'sipping', 'on', 'their', 'favorite', 'herbal', 'teas', '.', 'in', 'the', 'heart', 'of', 'the', 'city', ',', 'an', 'old', 'bookstore', 'stood', 'untouched', 'by', 'time', ',', 'its', 'wooden', 'shelves', 'filled', 'with', 'forgotten', 'stories', '.', 'one', 'evening', ',', 'a', 'young', 'programmer', 'named', 'alex', 'stumbled', 'upon', 'an', 'ancient', 'manuscript', ',', 'filled', 'with', 'cryptic', 'symbols', '.', 'little', 'did', 'alex', 'know', ',', 'this', 'book', 'held', 'the', 'key', 'to', 'an', 'algorithm', 'that', 'could', 'change', 'the', 'future', 'of', 'artificial', 'intelligence', 'forever', '.']\n",
            "{'on', 'city', 'algorithm', 'herbal', 'programmer', 'artificial', 'its', 'in', 'and', 'filled', 'bookstore', 'with', 'stories', 'this', 'the', 'technology', 'teas', 'book', 'key', 'heart', 'neon-lit', 'while', 'an', ',', 'coexisted', 'walked', 'harmony', 'evening', 'time', 'manuscript', 'untouched', 'held', 'forgotten', 'sipping', 'intelligence', '.', 'young', 'tradition', 'alex', 'wooden', 'shelves', 'future', 'of', 'bustling', 'forever', 'latest', 'one', 'cryptic', 'orion', 'ancient', 'about', 'change', 'that', 'through', 'ai', 'a', 'to', 'people', 'favorite', 'by', 'did', 'could', 'stumbled', 'chatting', 'upon', 'stood', 'know', 'symbols', 'little', 'named', 'their', 'streets', 'old', 'breakthroughs'}\n"
          ]
        }
      ]
    },
    {
      "cell_type": "code",
      "source": [
        "#remove stop words\n",
        "set_wo_stopwords = vocab_set - set(stopwords.words(\"english\"))\n",
        "print(set_wo_stopwords)\n"
      ],
      "metadata": {
        "colab": {
          "base_uri": "https://localhost:8080/"
        },
        "id": "L9t3hUq4wTsz",
        "outputId": "af18d845-2814-42ed-bc7d-eba062b1e009"
      },
      "execution_count": 50,
      "outputs": [
        {
          "output_type": "stream",
          "name": "stdout",
          "text": [
            "{'city', 'algorithm', 'herbal', 'programmer', 'artificial', 'filled', 'bookstore', 'book', 'technology', 'teas', 'key', 'heart', 'neon-lit', ',', 'coexisted', 'walked', 'harmony', 'evening', 'time', 'manuscript', 'untouched', 'held', 'forgotten', 'sipping', 'intelligence', '.', 'young', 'tradition', 'alex', 'wooden', 'shelves', 'future', 'bustling', 'forever', 'latest', 'cryptic', 'orion', 'ancient', 'change', 'ai', 'people', 'favorite', 'could', 'breakthroughs', 'stumbled', 'chatting', 'upon', 'stood', 'know', 'symbols', 'little', 'named', 'stories', 'streets', 'old', 'one'}\n"
          ]
        }
      ]
    },
    {
      "cell_type": "code",
      "source": [
        "#remove punctuation\n",
        "set_wo_punctuation = set_wo_stopwords - set(punctuation)\n",
        "print(set_wo_punctuation)\n"
      ],
      "metadata": {
        "colab": {
          "base_uri": "https://localhost:8080/"
        },
        "id": "5D9Ef1kLwJZZ",
        "outputId": "f738028c-e0e4-4b70-93dc-45aba67cc84c"
      },
      "execution_count": 51,
      "outputs": [
        {
          "output_type": "stream",
          "name": "stdout",
          "text": [
            "{'city', 'algorithm', 'herbal', 'programmer', 'artificial', 'stories', 'filled', 'bookstore', 'book', 'technology', 'key', 'heart', 'neon-lit', 'coexisted', 'walked', 'harmony', 'evening', 'time', 'manuscript', 'untouched', 'held', 'forgotten', 'sipping', 'intelligence', 'young', 'tradition', 'alex', 'wooden', 'shelves', 'future', 'bustling', 'forever', 'latest', 'one', 'cryptic', 'orion', 'ancient', 'change', 'ai', 'people', 'favorite', 'could', 'stumbled', 'chatting', 'upon', 'stood', 'know', 'symbols', 'little', 'named', 'teas', 'streets', 'old', 'breakthroughs'}\n"
          ]
        }
      ]
    },
    {
      "cell_type": "code",
      "source": [
        "#stemming\n",
        "stemmed_list= []\n",
        "stemObj = SnowballStemmer(\"english\")\n",
        "for i in set_wo_punctuation:\n",
        "  stemmed_list.append(stemObj.stem(i))\n",
        "print(stemmed_list)\n"
      ],
      "metadata": {
        "colab": {
          "base_uri": "https://localhost:8080/"
        },
        "id": "bNAywXBwwcpk",
        "outputId": "87117ab1-760e-4a90-92d9-0f2d8816cb8a"
      },
      "execution_count": 52,
      "outputs": [
        {
          "output_type": "stream",
          "name": "stdout",
          "text": [
            "['citi', 'algorithm', 'herbal', 'programm', 'artifici', 'stori', 'fill', 'bookstor', 'book', 'technolog', 'key', 'heart', 'neon-lit', 'coexist', 'walk', 'harmoni', 'even', 'time', 'manuscript', 'untouch', 'held', 'forgotten', 'sip', 'intellig', 'young', 'tradit', 'alex', 'wooden', 'shelv', 'futur', 'bustl', 'forev', 'latest', 'one', 'cryptic', 'orion', 'ancient', 'chang', 'ai', 'peopl', 'favorit', 'could', 'stumbl', 'chat', 'upon', 'stood', 'know', 'symbol', 'littl', 'name', 'tea', 'street', 'old', 'breakthrough']\n"
          ]
        }
      ]
    },
    {
      "cell_type": "code",
      "source": [
        "nltk.download('averaged_perceptron_tagger_eng')"
      ],
      "metadata": {
        "colab": {
          "base_uri": "https://localhost:8080/"
        },
        "id": "ACqd1o52wy3j",
        "outputId": "c3397f75-1e04-4b56-8462-8e1c9b51187b"
      },
      "execution_count": 56,
      "outputs": [
        {
          "output_type": "stream",
          "name": "stderr",
          "text": [
            "[nltk_data] Downloading package averaged_perceptron_tagger_eng to\n",
            "[nltk_data]     /root/nltk_data...\n",
            "[nltk_data]   Unzipping taggers/averaged_perceptron_tagger_eng.zip.\n"
          ]
        },
        {
          "output_type": "execute_result",
          "data": {
            "text/plain": [
              "True"
            ]
          },
          "metadata": {},
          "execution_count": 56
        }
      ]
    },
    {
      "cell_type": "code",
      "source": [
        "#parts of speech tagging\n",
        "pos_tag_list = pos_tag(set_wo_punctuation)\n",
        "print(pos_tag_list)"
      ],
      "metadata": {
        "colab": {
          "base_uri": "https://localhost:8080/"
        },
        "id": "mfJDeu4Nwp5b",
        "outputId": "a983b3e7-d4d5-4a65-dad9-2a9d36772282"
      },
      "execution_count": 57,
      "outputs": [
        {
          "output_type": "stream",
          "name": "stdout",
          "text": [
            "[('city', 'NN'), ('algorithm', 'NN'), ('herbal', 'JJ'), ('programmer', 'NN'), ('artificial', 'JJ'), ('stories', 'NNS'), ('filled', 'VBN'), ('bookstore', 'RB'), ('book', 'NN'), ('technology', 'NN'), ('key', 'JJ'), ('heart', 'NN'), ('neon-lit', 'JJ'), ('coexisted', 'VBD'), ('walked', 'JJ'), ('harmony', 'NN'), ('evening', 'NN'), ('time', 'NN'), ('manuscript', 'NN'), ('untouched', 'VBD'), ('held', 'VBN'), ('forgotten', 'RB'), ('sipping', 'VBG'), ('intelligence', 'NN'), ('young', 'JJ'), ('tradition', 'NN'), ('alex', 'JJ'), ('wooden', 'JJ'), ('shelves', 'NNS'), ('future', 'JJ'), ('bustling', 'VBG'), ('forever', 'RB'), ('latest', 'JJS'), ('one', 'CD'), ('cryptic', 'JJ'), ('orion', 'NN'), ('ancient', 'NN'), ('change', 'NN'), ('ai', 'VBP'), ('people', 'NNS'), ('favorite', 'RB'), ('could', 'MD'), ('stumbled', 'VB'), ('chatting', 'VBG'), ('upon', 'IN'), ('stood', 'NN'), ('know', 'VBP'), ('symbols', 'VBZ'), ('little', 'RB'), ('named', 'VBN'), ('teas', 'JJ'), ('streets', 'NNS'), ('old', 'JJ'), ('breakthroughs', 'NNS')]\n"
          ]
        }
      ]
    },
    {
      "cell_type": "code",
      "source": [
        "\n",
        "from nltk.stem import WordNetLemmatizer\n",
        "from nltk.corpus import wordnet\n",
        "from nltk import pos_tag\n",
        "\n",
        "# Function to convert NLTK POS tags to WordNet POS tags\n",
        "def parts_of_speech(pos):\n",
        "    if pos.startswith(\"N\"):\n",
        "        return wordnet.NOUN\n",
        "    elif pos.startswith(\"J\"):\n",
        "        return wordnet.ADJ\n",
        "    elif pos.startswith(\"V\"):\n",
        "        return wordnet.VERB\n",
        "    elif pos.startswith(\"R\"):\n",
        "        return wordnet.ADV\n",
        "    else:\n",
        "        return ''\n",
        "\n",
        "# Sample POS-tagged words\n",
        "pos_tag_list = [('running', 'VBG'), ('quickly', 'RB'), ('better', 'JJR'), ('dogs', 'NNS')]\n",
        "\n",
        "# Initialize lemmatizer\n",
        "lemma_list = []\n",
        "lemmaObj = WordNetLemmatizer()\n",
        "\n",
        "# Lemmatization process\n",
        "for word, pos in pos_tag_list:\n",
        "    get_pos = parts_of_speech(pos)\n",
        "    if get_pos:\n",
        "        lemma_list.append(lemmaObj.lemmatize(word, pos=get_pos))\n",
        "    else:\n",
        "        lemma_list.append(word)\n",
        "\n",
        "print(lemma_list)  # Expected Output: ['run', 'quickly', 'better', 'dog']\n"
      ],
      "metadata": {
        "colab": {
          "base_uri": "https://localhost:8080/"
        },
        "id": "htSwl-JmwjK3",
        "outputId": "2ef53928-4fff-43fe-aeb8-bb5442853b44"
      },
      "execution_count": 59,
      "outputs": [
        {
          "output_type": "stream",
          "name": "stdout",
          "text": [
            "['run', 'quickly', 'good', 'dog']\n"
          ]
        }
      ]
    },
    {
      "cell_type": "code",
      "source": [
        "#bigrams\n",
        "bigrams = ngrams(set_wo_punctuation,2)\n",
        "print(list(bigrams))\n"
      ],
      "metadata": {
        "colab": {
          "base_uri": "https://localhost:8080/"
        },
        "id": "PO2SUTCRxqfw",
        "outputId": "dc36de63-bd35-47f8-dfb8-566c34d6c514"
      },
      "execution_count": 60,
      "outputs": [
        {
          "output_type": "stream",
          "name": "stdout",
          "text": [
            "[('city', 'algorithm'), ('algorithm', 'herbal'), ('herbal', 'programmer'), ('programmer', 'artificial'), ('artificial', 'stories'), ('stories', 'filled'), ('filled', 'bookstore'), ('bookstore', 'book'), ('book', 'technology'), ('technology', 'key'), ('key', 'heart'), ('heart', 'neon-lit'), ('neon-lit', 'coexisted'), ('coexisted', 'walked'), ('walked', 'harmony'), ('harmony', 'evening'), ('evening', 'time'), ('time', 'manuscript'), ('manuscript', 'untouched'), ('untouched', 'held'), ('held', 'forgotten'), ('forgotten', 'sipping'), ('sipping', 'intelligence'), ('intelligence', 'young'), ('young', 'tradition'), ('tradition', 'alex'), ('alex', 'wooden'), ('wooden', 'shelves'), ('shelves', 'future'), ('future', 'bustling'), ('bustling', 'forever'), ('forever', 'latest'), ('latest', 'one'), ('one', 'cryptic'), ('cryptic', 'orion'), ('orion', 'ancient'), ('ancient', 'change'), ('change', 'ai'), ('ai', 'people'), ('people', 'favorite'), ('favorite', 'could'), ('could', 'stumbled'), ('stumbled', 'chatting'), ('chatting', 'upon'), ('upon', 'stood'), ('stood', 'know'), ('know', 'symbols'), ('symbols', 'little'), ('little', 'named'), ('named', 'teas'), ('teas', 'streets'), ('streets', 'old'), ('old', 'breakthroughs')]\n"
          ]
        }
      ]
    },
    {
      "cell_type": "markdown",
      "source": [
        "# Regular Expressions"
      ],
      "metadata": {
        "id": "9pSOvMfQx4_5"
      }
    },
    {
      "cell_type": "code",
      "source": [
        "import re"
      ],
      "metadata": {
        "id": "VRLnr00wxz8D"
      },
      "execution_count": 61,
      "outputs": []
    },
    {
      "cell_type": "code",
      "source": [
        "sent3 = \"1947 was when India became independent.\"\n",
        "print(\"Occurences of a-z: \",re.search(r\"[a-z]+\",sent3))\n",
        "#prints Occurences of a-z: <_sre.SRE_Match object; span=(5, 8), match='was'>\n"
      ],
      "metadata": {
        "colab": {
          "base_uri": "https://localhost:8080/"
        },
        "id": "QQX_klnHyXbg",
        "outputId": "8241daff-0156-4afb-b054-85cd03a71d10"
      },
      "execution_count": 62,
      "outputs": [
        {
          "output_type": "stream",
          "name": "stdout",
          "text": [
            "Occurences of a-z:  <re.Match object; span=(5, 8), match='was'>\n"
          ]
        }
      ]
    },
    {
      "cell_type": "code",
      "source": [
        "sent3 = \"1947 was when India became independent.\"\n",
        "print(\"Occurences of 0-9: \",re.search(r\"[0-9]+\",sent3))\n",
        "#prints  Occurences of 0-9: <_sre.SRE_Match object; span=(0, 4), match='1947'>\n"
      ],
      "metadata": {
        "colab": {
          "base_uri": "https://localhost:8080/"
        },
        "id": "kQ8MUXNuybHL",
        "outputId": "12524bf4-d6e3-4c58-c80f-4641bd3d6218"
      },
      "execution_count": 63,
      "outputs": [
        {
          "output_type": "stream",
          "name": "stdout",
          "text": [
            "Occurences of 0-9:  <re.Match object; span=(0, 4), match='1947'>\n"
          ]
        }
      ]
    },
    {
      "cell_type": "code",
      "source": [
        "sent3 = \"1947_was when India became independent.\"\n",
        "print(\"Occurences of w and space: \",re.search(r\"[\\w ]+\",sent3))\n",
        "#prints Occurences of 0-9: <_sre.SRE_Match object; span=(0, 38), match='1947_was when India became independent'>\n"
      ],
      "metadata": {
        "colab": {
          "base_uri": "https://localhost:8080/"
        },
        "id": "UnOgQpqTyiL6",
        "outputId": "bc3ee082-2256-4054-9f93-e095ae5c18e3"
      },
      "execution_count": 64,
      "outputs": [
        {
          "output_type": "stream",
          "name": "stdout",
          "text": [
            "Occurences of w and space:  <re.Match object; span=(0, 38), match='1947_was when India became independent'>\n"
          ]
        }
      ]
    },
    {
      "cell_type": "markdown",
      "source": [
        "# Chunking"
      ],
      "metadata": {
        "id": "zE4dPaA4zG77"
      }
    },
    {
      "cell_type": "code",
      "source": [
        "nltk.download('maxent_ne_chunker_tab')\n",
        "nltk.download('words')"
      ],
      "metadata": {
        "colab": {
          "base_uri": "https://localhost:8080/"
        },
        "id": "yXCdQruezMlf",
        "outputId": "fc4a1a87-405b-49e7-e3ed-23b60ed8dd58"
      },
      "execution_count": 68,
      "outputs": [
        {
          "output_type": "stream",
          "name": "stderr",
          "text": [
            "[nltk_data] Downloading package maxent_ne_chunker_tab to\n",
            "[nltk_data]     /root/nltk_data...\n",
            "[nltk_data]   Package maxent_ne_chunker_tab is already up-to-date!\n",
            "[nltk_data] Downloading package words to /root/nltk_data...\n",
            "[nltk_data]   Unzipping corpora/words.zip.\n"
          ]
        },
        {
          "output_type": "execute_result",
          "data": {
            "text/plain": [
              "True"
            ]
          },
          "metadata": {},
          "execution_count": 68
        }
      ]
    },
    {
      "cell_type": "code",
      "source": [
        "from nltk import word_tokenize\n",
        "from nltk import pos_tag\n",
        "from nltk import ne_chunk\n",
        "barack = \"\"\"Barack Hussein Obama (born August 4, 1961) is an American politician\n",
        "who served as the 44th President of the United States from January 20, 2009, to January 20, 2017.\n",
        "A member of the Democratic Party, he was the first African American to assume the presidency\n",
        "and previously served as a United States Senator from Illinois (2005–2008).\"\"\"\n",
        "tokenised_barack = word_tokenize(barack)\n",
        "pos_list = pos_tag(tokenised_barack)\n",
        "print(ne_chunk(pos_list))\n"
      ],
      "metadata": {
        "colab": {
          "base_uri": "https://localhost:8080/"
        },
        "id": "v9pQ_cmIzImz",
        "outputId": "94d905e3-7977-4715-f4b7-dd159946bd61"
      },
      "execution_count": 69,
      "outputs": [
        {
          "output_type": "stream",
          "name": "stdout",
          "text": [
            "(S\n",
            "  (PERSON Barack/NNP)\n",
            "  (PERSON Hussein/NNP Obama/NNP)\n",
            "  (/(\n",
            "  born/VBN\n",
            "  August/NNP\n",
            "  4/CD\n",
            "  ,/,\n",
            "  1961/CD\n",
            "  )/)\n",
            "  is/VBZ\n",
            "  an/DT\n",
            "  (GPE American/JJ)\n",
            "  politician/NN\n",
            "  who/WP\n",
            "  served/VBD\n",
            "  as/IN\n",
            "  the/DT\n",
            "  44th/CD\n",
            "  President/NNP\n",
            "  of/IN\n",
            "  the/DT\n",
            "  (GPE United/NNP States/NNPS)\n",
            "  from/IN\n",
            "  January/NNP\n",
            "  20/CD\n",
            "  ,/,\n",
            "  2009/CD\n",
            "  ,/,\n",
            "  to/TO\n",
            "  January/NNP\n",
            "  20/CD\n",
            "  ,/,\n",
            "  2017/CD\n",
            "  ./.\n",
            "  A/DT\n",
            "  member/NN\n",
            "  of/IN\n",
            "  the/DT\n",
            "  (ORGANIZATION Democratic/NNP Party/NNP)\n",
            "  ,/,\n",
            "  he/PRP\n",
            "  was/VBD\n",
            "  the/DT\n",
            "  first/JJ\n",
            "  (ORGANIZATION African/JJ American/NNP)\n",
            "  to/TO\n",
            "  assume/VB\n",
            "  the/DT\n",
            "  presidency/NN\n",
            "  and/CC\n",
            "  previously/RB\n",
            "  served/VBD\n",
            "  as/IN\n",
            "  a/DT\n",
            "  (GPE United/NNP States/NNPS)\n",
            "  Senator/NNP\n",
            "  from/IN\n",
            "  (GPE Illinois/NNP)\n",
            "  (/(\n",
            "  2005–2008/CD\n",
            "  )/)\n",
            "  ./.)\n"
          ]
        }
      ]
    },
    {
      "cell_type": "code",
      "source": [
        "from nltk import RegexpParser\n",
        "from nltk import word_tokenize\n",
        "from nltk import pos_tag\n",
        "barack = \"\"\"Barack Hussein Obama II born August 4, 1961) is an American politician\n",
        "who served as the 44th President of\n",
        "the United States from January 20, 2009, to January 20, 2017.\n",
        "A member of the Democratic Party, he was the\n",
        "first African American to assume the presidency and previously\n",
        "served as a United States Senator from Illinois (2005–2008).\"\"\"\n",
        "grammar = r\"\"\"Place: {<NNP><NNPS>+}\n",
        "           Date: {<NNP><CD><,><CD>}\n",
        "           Person: {<NNP>+}\n",
        "           \"\"\"\n",
        "tokenised_barack = word_tokenize(barack)\n",
        "pos_list = pos_tag(tokenised_barack)\n",
        "regParser = RegexpParser(grammar)\n",
        "reg_lines = regParser.parse(pos_list)\n",
        "print(reg_lines)\n"
      ],
      "metadata": {
        "colab": {
          "base_uri": "https://localhost:8080/"
        },
        "id": "7BflybTdzgcQ",
        "outputId": "42b95c09-0996-48ec-f760-b0a8135cc49e"
      },
      "execution_count": 71,
      "outputs": [
        {
          "output_type": "stream",
          "name": "stdout",
          "text": [
            "(S\n",
            "  (Person Barack/NNP Hussein/NNP Obama/NNP II/NNP)\n",
            "  born/VBD\n",
            "  (Date August/NNP 4/CD ,/, 1961/CD)\n",
            "  )/)\n",
            "  is/VBZ\n",
            "  an/DT\n",
            "  American/JJ\n",
            "  politician/NN\n",
            "  who/WP\n",
            "  served/VBD\n",
            "  as/IN\n",
            "  the/DT\n",
            "  44th/CD\n",
            "  (Person President/NNP)\n",
            "  of/IN\n",
            "  the/DT\n",
            "  (Place United/NNP States/NNPS)\n",
            "  from/IN\n",
            "  (Date January/NNP 20/CD ,/, 2009/CD)\n",
            "  ,/,\n",
            "  to/TO\n",
            "  (Date January/NNP 20/CD ,/, 2017/CD)\n",
            "  ./.\n",
            "  A/DT\n",
            "  member/NN\n",
            "  of/IN\n",
            "  the/DT\n",
            "  (Person Democratic/NNP Party/NNP)\n",
            "  ,/,\n",
            "  he/PRP\n",
            "  was/VBD\n",
            "  the/DT\n",
            "  first/JJ\n",
            "  African/JJ\n",
            "  (Person American/NNP)\n",
            "  to/TO\n",
            "  assume/VB\n",
            "  the/DT\n",
            "  presidency/NN\n",
            "  and/CC\n",
            "  previously/RB\n",
            "  served/VBD\n",
            "  as/IN\n",
            "  a/DT\n",
            "  (Place United/NNP States/NNPS)\n",
            "  (Person Senator/NNP)\n",
            "  from/IN\n",
            "  (Person Illinois/NNP)\n",
            "  (/(\n",
            "  2005–2008/CD\n",
            "  )/)\n",
            "  ./.)\n"
          ]
        }
      ]
    },
    {
      "cell_type": "markdown",
      "source": [
        "# Tagging"
      ],
      "metadata": {
        "id": "J-VQei7_z3zO"
      }
    },
    {
      "cell_type": "code",
      "source": [
        "sent1 = \"The race officials refused to permit the team to race today\"\n",
        "print(pos_tag(word_tokenize(sent1)))\n"
      ],
      "metadata": {
        "colab": {
          "base_uri": "https://localhost:8080/"
        },
        "id": "Xxa0Atw4znMI",
        "outputId": "d042d97a-6928-40e3-a684-891f28fd85f6"
      },
      "execution_count": 72,
      "outputs": [
        {
          "output_type": "stream",
          "name": "stdout",
          "text": [
            "[('The', 'DT'), ('race', 'NN'), ('officials', 'NNS'), ('refused', 'VBD'), ('to', 'TO'), ('permit', 'VB'), ('the', 'DT'), ('team', 'NN'), ('to', 'TO'), ('race', 'NN'), ('today', 'NN')]\n"
          ]
        }
      ]
    },
    {
      "cell_type": "code",
      "source": [
        "sent2 = \"That gentleman wants some water to water the plants\"\n",
        "print(pos_tag(word_tokenize(sent2)))\n",
        "# Output: [('That', 'DT'), ('gentleman', 'NN'), ('wants', 'VBZ'), ('some', 'DT'), ('water', 'NN'),\n",
        "#             ('to', 'TO'), ('water', 'NN'), ('the', 'DT'), ('plants', 'NNS')]\n"
      ],
      "metadata": {
        "colab": {
          "base_uri": "https://localhost:8080/"
        },
        "id": "c2rDdVSxz-PR",
        "outputId": "cb498b21-7bb7-456e-b95b-c09de239d3ba"
      },
      "execution_count": 73,
      "outputs": [
        {
          "output_type": "stream",
          "name": "stdout",
          "text": [
            "[('That', 'DT'), ('gentleman', 'NN'), ('wants', 'VBZ'), ('some', 'DT'), ('water', 'NN'), ('to', 'TO'), ('water', 'NN'), ('the', 'DT'), ('plants', 'NNS')]\n"
          ]
        }
      ]
    },
    {
      "cell_type": "code",
      "source": [
        "text = word_tokenize(\"They refuse to permit us to obtain the refuse permit\")\n",
        "print(nltk.pos_tag(text))\n",
        "# Prints [('They', 'PRP'), ('refuse', 'VBP'), ('to', 'TO'), ('permit', 'VB'), ('us', 'PRP'), ('to', 'TO'),\n",
        "        # ('obtain', 'VB'), ('the', 'DT'), ('refuse', 'NN'), ('permit', 'NN')]\n"
      ],
      "metadata": {
        "colab": {
          "base_uri": "https://localhost:8080/"
        },
        "id": "lXQ8qGV50GmP",
        "outputId": "806657e0-29c3-4c62-b163-17fa26bb5d1c"
      },
      "execution_count": 74,
      "outputs": [
        {
          "output_type": "stream",
          "name": "stdout",
          "text": [
            "[('They', 'PRP'), ('refuse', 'VBP'), ('to', 'TO'), ('permit', 'VB'), ('us', 'PRP'), ('to', 'TO'), ('obtain', 'VB'), ('the', 'DT'), ('refuse', 'NN'), ('permit', 'NN')]\n"
          ]
        }
      ]
    },
    {
      "cell_type": "markdown",
      "source": [
        "# Default Tagger"
      ],
      "metadata": {
        "id": "IiSBNRqx0Qmj"
      }
    },
    {
      "cell_type": "code",
      "source": [
        "# importing a predefined corpus\n",
        "from nltk.corpus import brown\n",
        "# getting the most common tag in the brown corpus\n",
        "tags = [tag for (word,tag) in brown.tagged_words()]\n",
        "most_common_tag = nltk.FreqDist(tags).max()\n",
        "print(most_common_tag)\n",
        "#Prints NN which means the most common POS is noun\n",
        "# Using the most_common_tag as the input for DefaultTagger\n",
        "from nltk import DefaultTagger\n",
        "default_tagger = DefaultTagger(most_common_tag)\n",
        "def_tagged_barack = default_tagger.tag(tokenised_barack)\n",
        "print(def_tagged_barack)\n",
        "#Prints [('Barack', 'NN'), ('Hussein', 'NN'), ('Obama', 'NN'), ('II', 'NN'), ('born', 'NN'),\n",
        "    #  ('August', 'NN'), ('4', 'NN'), (',', 'NN'), ('1961', 'NN'), (')', 'NN'), ('is', 'NN'), ... ]\n"
      ],
      "metadata": {
        "colab": {
          "base_uri": "https://localhost:8080/"
        },
        "id": "Ma5PkBaw0RzM",
        "outputId": "6f6f8a6d-75a4-429d-a75a-8c234f2f5b7f"
      },
      "execution_count": 76,
      "outputs": [
        {
          "output_type": "stream",
          "name": "stdout",
          "text": [
            "NN\n",
            "[('Barack', 'NN'), ('Hussein', 'NN'), ('Obama', 'NN'), ('II', 'NN'), ('born', 'NN'), ('August', 'NN'), ('4', 'NN'), (',', 'NN'), ('1961', 'NN'), (')', 'NN'), ('is', 'NN'), ('an', 'NN'), ('American', 'NN'), ('politician', 'NN'), ('who', 'NN'), ('served', 'NN'), ('as', 'NN'), ('the', 'NN'), ('44th', 'NN'), ('President', 'NN'), ('of', 'NN'), ('the', 'NN'), ('United', 'NN'), ('States', 'NN'), ('from', 'NN'), ('January', 'NN'), ('20', 'NN'), (',', 'NN'), ('2009', 'NN'), (',', 'NN'), ('to', 'NN'), ('January', 'NN'), ('20', 'NN'), (',', 'NN'), ('2017', 'NN'), ('.', 'NN'), ('A', 'NN'), ('member', 'NN'), ('of', 'NN'), ('the', 'NN'), ('Democratic', 'NN'), ('Party', 'NN'), (',', 'NN'), ('he', 'NN'), ('was', 'NN'), ('the', 'NN'), ('first', 'NN'), ('African', 'NN'), ('American', 'NN'), ('to', 'NN'), ('assume', 'NN'), ('the', 'NN'), ('presidency', 'NN'), ('and', 'NN'), ('previously', 'NN'), ('served', 'NN'), ('as', 'NN'), ('a', 'NN'), ('United', 'NN'), ('States', 'NN'), ('Senator', 'NN'), ('from', 'NN'), ('Illinois', 'NN'), ('(', 'NN'), ('2005–2008', 'NN'), (')', 'NN'), ('.', 'NN')]\n"
          ]
        }
      ]
    }
  ]
}